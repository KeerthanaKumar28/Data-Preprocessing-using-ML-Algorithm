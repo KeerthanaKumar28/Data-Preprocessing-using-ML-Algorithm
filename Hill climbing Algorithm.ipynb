{
 "cells": [
  {
   "cell_type": "code",
   "execution_count": 5,
   "id": "62e377a7-987f-4250-a2d6-49f4ae4fd69a",
   "metadata": {},
   "outputs": [],
   "source": [
    "tsp=[[0,400,500,300],[400,0,300,500],[300,400,0,500],[400,300,500,0]]"
   ]
  },
  {
   "cell_type": "code",
   "execution_count": 67,
   "id": "3426fd20-5287-43dd-8939-e069cad01623",
   "metadata": {},
   "outputs": [],
   "source": [
    "import random\n",
    "import numpy as np\n",
    "import streamlit as st\n",
    "def randomSolution(tsp):\n",
    "    cities=list(range(len(tsp)))\n",
    "    solution=[]\n",
    "    for i in range(len(tsp)):\n",
    "        randomCity=cities[random.randint(0,len(cities)-1)]\n",
    "        solution.append(randomCity)\n",
    "        cities.remove(randomCity)\n",
    "    return solution "
   ]
  },
  {
   "cell_type": "code",
   "execution_count": 69,
   "id": "7bed62db-23ba-4963-9691-0c702e30c227",
   "metadata": {},
   "outputs": [],
   "source": [
    "def routelength(tsp,solution):\n",
    "    routelength=0\n",
    "    for i in range(len(solution)):\n",
    "        routelength+=tsp[solution[i-1]][solution[i]]\n",
    "    return routelength"
   ]
  },
  {
   "cell_type": "code",
   "execution_count": 71,
   "id": "f6ae9e8e-8d4c-42d0-84f6-4badc5d3830b",
   "metadata": {},
   "outputs": [
    {
     "name": "stdout",
     "output_type": "stream",
     "text": [
      "Random solution: [0, 2, 3, 1]\n",
      "Route Length: 1700\n"
     ]
    }
   ],
   "source": [
    "solution=randomSolution(tsp) \n",
    "print(\"Random solution:\", solution)\n",
    "print(\"Route Length:\",routelength(tsp,solution))"
   ]
  },
  {
   "cell_type": "code",
   "execution_count": 73,
   "id": "a2fc74cc-ef3c-45ed-9600-e0d45ac7f5dc",
   "metadata": {},
   "outputs": [
    {
     "name": "stdout",
     "output_type": "stream",
     "text": [
      "All Neighbours: [[1, 0, 3, 2], [3, 1, 0, 2], [2, 1, 3, 0], [0, 3, 1, 2], [0, 2, 3, 1], [0, 1, 2, 3]]\n"
     ]
    }
   ],
   "source": [
    "def getNeighbour(solution):\n",
    "    neighbours=[]\n",
    "    for i in range(len(solution)):\n",
    "        for j in range(i+1,len(solution)):\n",
    "            neighbour=solution.copy()\n",
    "            neighbour[i]=solution[j]\n",
    "            neighbour[j]=solution[i]\n",
    "            neighbours.append(neighbour)\n",
    "    return neighbours\n",
    "solution=randomSolution(tsp) \n",
    "neighbours = getNeighbour(solution)\n",
    "print(\"All Neighbours:\", neighbours)"
   ]
  },
  {
   "cell_type": "code",
   "execution_count": 75,
   "id": "7f6e6f6c-8157-4709-8e4f-e5f1fc1c93b7",
   "metadata": {},
   "outputs": [
    {
     "name": "stdout",
     "output_type": "stream",
     "text": [
      "Best Neighbour: [0, 3, 1, 2]\n",
      "Best Route Length: 1200\n"
     ]
    }
   ],
   "source": [
    "def getBestNeighbours(tsp,neighbours):\n",
    "    bestRouteLength=routelength(tsp,neighbours[0])\n",
    "    bestNeighbour=neighbours[0]\n",
    "    for neighbour in neighbours:\n",
    "        currentRouteLength=routelength(tsp,neighbour)\n",
    "        if currentRouteLength<bestRouteLength:\n",
    "            bestRouteLength=currentRouteLength\n",
    "            bestNeighbour=neighbour\n",
    "    return bestNeighbour,bestRouteLength\n",
    "bestNeighbour, bestRouteLength = getBestNeighbours(tsp, neighbours)\n",
    "print(\"Best Neighbour:\", bestNeighbour)\n",
    "print(\"Best Route Length:\", bestRouteLength)"
   ]
  },
  {
   "cell_type": "code",
   "execution_count": 83,
   "id": "a2251349-56f0-4aab-94e4-65fa958b15fe",
   "metadata": {
    "scrolled": true
   },
   "outputs": [],
   "source": [
    "def hill_climbing(tsp,initial_solution,max_iteration=1000):\n",
    "    current_solution=initial_solution\n",
    "    current_length=routelength(tsp,current_solution)\n",
    "    for _ in range(max_iteration):\n",
    "        neigbours=getNeighbour(current_solution)\n",
    "        best_neighbour,best_length=getBestNeighbours(tsp,neighbours)\n",
    "        if best_length<current_length:\n",
    "            current_solution=best_neighbour\n",
    "            current_length=best_length\n",
    "        else:\n",
    "            break\n",
    "    return current_solution,current_length"
   ]
  },
  {
   "cell_type": "code",
   "execution_count": 85,
   "id": "b86fc7db-d01f-46dd-ab52-f7f40865a25a",
   "metadata": {},
   "outputs": [
    {
     "name": "stdout",
     "output_type": "stream",
     "text": [
      "Final solution after Hill climbing: [0, 3, 1, 2]\n",
      "Final Route length: 1200\n"
     ]
    }
   ],
   "source": [
    "final_solution,final_length=hill_climbing(tsp, solution)\n",
    "print(\"Final solution after Hill climbing:\", final_solution)\n",
    "print(\"Final Route length:\", final_length)"
   ]
  },
  {
   "cell_type": "code",
   "execution_count": 81,
   "id": "2bd7acf8-498d-4d05-815d-3b1632a86803",
   "metadata": {},
   "outputs": [
    {
     "name": "stdout",
     "output_type": "stream",
     "text": [
      "Requirement already satisfied: streamlit in d:\\anaconda\\lib\\site-packages (1.32.0)\n",
      "Requirement already satisfied: altair<6,>=4.0 in d:\\anaconda\\lib\\site-packages (from streamlit) (5.0.1)\n",
      "Requirement already satisfied: blinker<2,>=1.0.0 in d:\\anaconda\\lib\\site-packages (from streamlit) (1.6.2)\n",
      "Requirement already satisfied: cachetools<6,>=4.0 in d:\\anaconda\\lib\\site-packages (from streamlit) (5.3.3)\n",
      "Requirement already satisfied: click<9,>=7.0 in d:\\anaconda\\lib\\site-packages (from streamlit) (8.1.7)\n",
      "Requirement already satisfied: numpy<2,>=1.19.3 in d:\\anaconda\\lib\\site-packages (from streamlit) (1.26.4)\n",
      "Requirement already satisfied: packaging<24,>=16.8 in d:\\anaconda\\lib\\site-packages (from streamlit) (23.2)\n",
      "Requirement already satisfied: pandas<3,>=1.3.0 in d:\\anaconda\\lib\\site-packages (from streamlit) (2.2.2)\n",
      "Requirement already satisfied: pillow<11,>=7.1.0 in d:\\anaconda\\lib\\site-packages (from streamlit) (10.3.0)\n",
      "Requirement already satisfied: protobuf<5,>=3.20 in d:\\anaconda\\lib\\site-packages (from streamlit) (3.20.3)\n",
      "Requirement already satisfied: pyarrow>=7.0 in d:\\anaconda\\lib\\site-packages (from streamlit) (14.0.2)\n",
      "Requirement already satisfied: requests<3,>=2.27 in d:\\anaconda\\lib\\site-packages (from streamlit) (2.32.2)\n",
      "Requirement already satisfied: rich<14,>=10.14.0 in d:\\anaconda\\lib\\site-packages (from streamlit) (13.3.5)\n",
      "Requirement already satisfied: tenacity<9,>=8.1.0 in d:\\anaconda\\lib\\site-packages (from streamlit) (8.2.2)\n",
      "Requirement already satisfied: toml<2,>=0.10.1 in d:\\anaconda\\lib\\site-packages (from streamlit) (0.10.2)\n",
      "Requirement already satisfied: typing-extensions<5,>=4.3.0 in d:\\anaconda\\lib\\site-packages (from streamlit) (4.11.0)\n",
      "Requirement already satisfied: gitpython!=3.1.19,<4,>=3.0.7 in d:\\anaconda\\lib\\site-packages (from streamlit) (3.1.37)\n",
      "Requirement already satisfied: pydeck<1,>=0.8.0b4 in d:\\anaconda\\lib\\site-packages (from streamlit) (0.8.0)\n",
      "Requirement already satisfied: tornado<7,>=6.0.3 in d:\\anaconda\\lib\\site-packages (from streamlit) (6.4.1)\n",
      "Requirement already satisfied: watchdog>=2.1.5 in d:\\anaconda\\lib\\site-packages (from streamlit) (4.0.1)\n",
      "Requirement already satisfied: jinja2 in d:\\anaconda\\lib\\site-packages (from altair<6,>=4.0->streamlit) (3.1.4)\n",
      "Requirement already satisfied: jsonschema>=3.0 in d:\\anaconda\\lib\\site-packages (from altair<6,>=4.0->streamlit) (4.19.2)\n",
      "Requirement already satisfied: toolz in d:\\anaconda\\lib\\site-packages (from altair<6,>=4.0->streamlit) (0.12.0)\n",
      "Requirement already satisfied: colorama in d:\\anaconda\\lib\\site-packages (from click<9,>=7.0->streamlit) (0.4.6)\n",
      "Requirement already satisfied: gitdb<5,>=4.0.1 in d:\\anaconda\\lib\\site-packages (from gitpython!=3.1.19,<4,>=3.0.7->streamlit) (4.0.7)\n",
      "Requirement already satisfied: python-dateutil>=2.8.2 in d:\\anaconda\\lib\\site-packages (from pandas<3,>=1.3.0->streamlit) (2.9.0.post0)\n",
      "Requirement already satisfied: pytz>=2020.1 in d:\\anaconda\\lib\\site-packages (from pandas<3,>=1.3.0->streamlit) (2024.1)\n",
      "Requirement already satisfied: tzdata>=2022.7 in d:\\anaconda\\lib\\site-packages (from pandas<3,>=1.3.0->streamlit) (2023.3)\n",
      "Requirement already satisfied: charset-normalizer<4,>=2 in d:\\anaconda\\lib\\site-packages (from requests<3,>=2.27->streamlit) (2.0.4)\n",
      "Requirement already satisfied: idna<4,>=2.5 in d:\\anaconda\\lib\\site-packages (from requests<3,>=2.27->streamlit) (3.7)\n",
      "Requirement already satisfied: urllib3<3,>=1.21.1 in d:\\anaconda\\lib\\site-packages (from requests<3,>=2.27->streamlit) (2.2.2)\n",
      "Requirement already satisfied: certifi>=2017.4.17 in d:\\anaconda\\lib\\site-packages (from requests<3,>=2.27->streamlit) (2024.7.4)\n",
      "Requirement already satisfied: markdown-it-py<3.0.0,>=2.2.0 in d:\\anaconda\\lib\\site-packages (from rich<14,>=10.14.0->streamlit) (2.2.0)\n",
      "Requirement already satisfied: pygments<3.0.0,>=2.13.0 in d:\\anaconda\\lib\\site-packages (from rich<14,>=10.14.0->streamlit) (2.15.1)\n",
      "Requirement already satisfied: smmap<5,>=3.0.1 in d:\\anaconda\\lib\\site-packages (from gitdb<5,>=4.0.1->gitpython!=3.1.19,<4,>=3.0.7->streamlit) (4.0.0)\n",
      "Requirement already satisfied: MarkupSafe>=2.0 in d:\\anaconda\\lib\\site-packages (from jinja2->altair<6,>=4.0->streamlit) (2.1.3)\n",
      "Requirement already satisfied: attrs>=22.2.0 in d:\\anaconda\\lib\\site-packages (from jsonschema>=3.0->altair<6,>=4.0->streamlit) (23.1.0)\n",
      "Requirement already satisfied: jsonschema-specifications>=2023.03.6 in d:\\anaconda\\lib\\site-packages (from jsonschema>=3.0->altair<6,>=4.0->streamlit) (2023.7.1)\n",
      "Requirement already satisfied: referencing>=0.28.4 in d:\\anaconda\\lib\\site-packages (from jsonschema>=3.0->altair<6,>=4.0->streamlit) (0.30.2)\n",
      "Requirement already satisfied: rpds-py>=0.7.1 in d:\\anaconda\\lib\\site-packages (from jsonschema>=3.0->altair<6,>=4.0->streamlit) (0.10.6)\n",
      "Requirement already satisfied: mdurl~=0.1 in d:\\anaconda\\lib\\site-packages (from markdown-it-py<3.0.0,>=2.2.0->rich<14,>=10.14.0->streamlit) (0.1.0)\n",
      "Requirement already satisfied: six>=1.5 in d:\\anaconda\\lib\\site-packages (from python-dateutil>=2.8.2->pandas<3,>=1.3.0->streamlit) (1.16.0)\n"
     ]
    }
   ],
   "source": [
    "!pip install streamlit"
   ]
  },
  {
   "cell_type": "code",
   "execution_count": 102,
   "id": "0afc9774-1da5-4f1e-a359-722329ccbb9a",
   "metadata": {},
   "outputs": [
    {
     "name": "stderr",
     "output_type": "stream",
     "text": [
      "2024-12-26 12:13:57.045 \n",
      "  \u001b[33m\u001b[1mWarning:\u001b[0m to view this Streamlit app on a browser, run it with the following\n",
      "  command:\n",
      "\n",
      "    streamlit run D:\\anaconda\\Lib\\site-packages\\ipykernel_launcher.py [ARGUMENTS]\n"
     ]
    }
   ],
   "source": [
    "def main():\n",
    "    st.title(\"Travelling salesman problem(tsp)-Hill climbing\")\n",
    "    tsp=st.text_input(\"Enter the distance matrix(eg, [[10,0,35],[0,10,35]]\")\n",
    "    if st.button(\"Generate Random  Solution\"):\n",
    "        try:\n",
    "            tsp=ast.literal_eval(tsp)\n",
    "            initial_solution=random_solution(tsp)\n",
    "            st.write(f\"** Initial Random solution:**{initial_solution}\")\n",
    "            st.write(f\"** Initial Route Length:**{routelength}\")\n",
    "            solution,lengthhill_climbing(tsp,initial_solution)\n",
    "            st.write(f\"** Best Solution after hill climbing:**{solution}\")\n",
    "            st.write(f\"** Best Route Length:**{length}\")\n",
    "            if st.button(\"Export to Mysql Database\"):\n",
    "                save_to_mysql(solution,length)\n",
    "                st.write(\"Data Successfully exported\")\n",
    "        except Exception as e:\n",
    "            st.write(\"Invalid Input,please enter valid input\")\n",
    "if __name__==\"__main__\":\n",
    " main()\n",
    "            "
   ]
  },
  {
   "cell_type": "code",
   "execution_count": null,
   "id": "e8ad466d-0f52-411e-908b-d22a7952a0d2",
   "metadata": {},
   "outputs": [],
   "source": [
    "!streamlit run "
   ]
  }
 ],
 "metadata": {
  "kernelspec": {
   "display_name": "Python 3 (ipykernel)",
   "language": "python",
   "name": "python3"
  },
  "language_info": {
   "codemirror_mode": {
    "name": "ipython",
    "version": 3
   },
   "file_extension": ".py",
   "mimetype": "text/x-python",
   "name": "python",
   "nbconvert_exporter": "python",
   "pygments_lexer": "ipython3",
   "version": "3.12.4"
  }
 },
 "nbformat": 4,
 "nbformat_minor": 5
}
